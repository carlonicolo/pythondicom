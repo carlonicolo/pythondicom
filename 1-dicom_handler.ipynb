{
 "cells": [
  {
   "attachments": {},
   "cell_type": "markdown",
   "metadata": {},
   "source": [
    "## Importing the libraries"
   ]
  },
  {
   "cell_type": "code",
   "execution_count": 1,
   "metadata": {},
   "outputs": [],
   "source": [
    "import pydicom\n",
    "import numpy as np\n",
    "from PIL import Image\n",
    "import os"
   ]
  },
  {
   "cell_type": "code",
   "execution_count": 2,
   "metadata": {},
   "outputs": [],
   "source": [
    "dicom_file = pydicom.dcmread(\"data/slice.dcm\")"
   ]
  },
  {
   "cell_type": "code",
   "execution_count": 4,
   "metadata": {},
   "outputs": [
    {
     "data": {
      "text/plain": [
       "Dataset.file_meta -------------------------------\n",
       "(0002, 0000) File Meta Information Group Length  UL: 204\n",
       "(0002, 0001) File Meta Information Version       OB: b'\\x00\\x01'\n",
       "(0002, 0002) Media Storage SOP Class UID         UI: CT Image Storage\n",
       "(0002, 0003) Media Storage SOP Instance UID      UI: 1.3.12.2.1107.5.1.4.50025.30000005060811542834300001064\n",
       "(0002, 0010) Transfer Syntax UID                 UI: Explicit VR Little Endian\n",
       "(0002, 0012) Implementation Class UID            UI: 1.2.276.0.7238010.5.0.3.5.4\n",
       "(0002, 0013) Implementation Version Name         SH: 'OSIRIX'\n",
       "(0002, 0016) Source Application Entity Title     AE: 'OSIRIX'\n",
       "-------------------------------------------------\n",
       "(0008, 0005) Specific Character Set              CS: 'ISO_IR 100'\n",
       "(0008, 0008) Image Type                          CS: ['ORIGINAL', 'PRIMARY', 'AXIAL', 'CT_SOM5 SPI']\n",
       "(0008, 0016) SOP Class UID                       UI: CT Image Storage\n",
       "(0008, 0018) SOP Instance UID                    UI: 1.3.12.2.1107.5.1.4.50025.30000005060811542834300001064\n",
       "(0008, 0020) Study Date                          DA: '20050601'\n",
       "(0008, 0021) Series Date                         DA: '20050601'\n",
       "(0008, 0022) Acquisition Date                    DA: '20050608'\n",
       "(0008, 0023) Content Date                        DA: '20050608'\n",
       "(0008, 0030) Study Time                          TM: '120000.000000'\n",
       "(0008, 0031) Series Time                         TM: '120000.000000'\n",
       "(0008, 0032) Acquisition Time                    TM: '103509.715359'\n",
       "(0008, 0033) Content Time                        TM: '103509.715359'\n",
       "(0008, 0050) Accession Number                    SH: '6936864'\n",
       "(0008, 0060) Modality                            CS: 'CT'\n",
       "(0008, 0070) Manufacturer                        LO: 'SIEMENS'\n",
       "(0008, 0080) Institution Name                    LO: 'oEfZQhRfYJqw.2f0J^zIa1dx'\n",
       "(0008, 0081) Institution Address                 ST: ''\n",
       "(0008, 0090) Referring Physician's Name          PN: ''\n",
       "(0008, 1010) Station Name                        SH: ''\n",
       "(0008, 1030) Study Description                   LO: 'CT Thorax Abdomen'\n",
       "(0008, 103e) Series Description                  LO: 'CT_Thorax_Abdomen'\n",
       "(0008, 1040) Institutional Department Name       LO: 'Rad 1'\n",
       "(0008, 1048) Physician(s) of Record              PN: ''\n",
       "(0008, 1050) Performing Physician's Name         PN: ''\n",
       "(0008, 1060) Name of Physician(s) Reading Study  PN: [SAG-OBL, COR-OBL]\n",
       "(0008, 1070) Operators' Name                     PN: ''\n",
       "(0008, 1090) Manufacturer's Model Name           LO: 'Sensation 16'\n",
       "(0008, 1110)  Referenced Study Sequence  3 item(s) ---- \n",
       "   (0008, 1150) Referenced SOP Class UID            UI: Detached Study Management SOP Class\n",
       "   (0008, 1155) Referenced SOP Instance UID         UI: 1.2.124.113932.1.170.223.162.178.20050502.160340.12640015\n",
       "   ---------\n",
       "   (0008, 1150) Referenced SOP Class UID            UI: Detached Study Management SOP Class\n",
       "   (0008, 1155) Referenced SOP Instance UID         UI: 1.2.124.113932.1.170.223.162.178.20050608.102742.12860516\n",
       "   ---------\n",
       "   (0008, 1150) Referenced SOP Class UID            UI: Detached Study Management SOP Class\n",
       "   (0008, 1155) Referenced SOP Instance UID         UI: 1.2.124.113932.1.170.223.162.178.20050608.102825.12860521\n",
       "   ---------\n",
       "(0008, 1120)  Referenced Patient Sequence  1 item(s) ---- \n",
       "   (0008, 1150) Referenced SOP Class UID            UI: Detached Patient Management SOP Class\n",
       "   (0008, 1155) Referenced SOP Instance UID         UI: 1.2.124.113932.1.170.223.162.178.20040817.165855.11101154\n",
       "   ---------\n",
       "(0008, 1140)  Referenced Image Sequence  1 item(s) ---- \n",
       "   (0008, 1150) Referenced SOP Class UID            UI: CT Image Storage\n",
       "   (0008, 1155) Referenced SOP Instance UID         UI: 1.3.12.2.1107.5.1.4.50025.30000005060808034637500001206\n",
       "   ---------\n",
       "(0008, 2112)  Source Image Sequence  1 item(s) ---- \n",
       "   (0008, 1150) Referenced SOP Class UID            UI: CT Image Storage\n",
       "   (0008, 1155) Referenced SOP Instance UID         UI: 1.3.12.2.1107.5.1.4.50025.30000005060808034637500001366\n",
       "   ---------\n",
       "(0010, 0010) Patient's Name                      PN: 'patient1'\n",
       "(0010, 0020) Patient ID                          LO: 'patient1_ID'\n",
       "(0010, 0030) Patient's Birth Date                DA: ''\n",
       "(0010, 0040) Patient's Sex                       CS: ''\n",
       "(0010, 1010) Patient's Age                       AS: '000Y'\n",
       "(0010, 1040) Patient's Address                   LO: ''\n",
       "(0010, 21b0) Additional Patient History          LT: ''\n",
       "(0010, 21c0) Pregnancy Status                    US: 4\n",
       "(0018, 0010) Contrast/Bolus Agent                LO: 'APPLIED'\n",
       "(0018, 0015) Body Part Examined                  CS: 'HEART'\n",
       "(0018, 0022) Scan Options                        CS: 'TM400MS1271'\n",
       "(0018, 0050) Slice Thickness                     DS: '3.0'\n",
       "(0018, 0060) KVP                                 DS: '120.0'\n",
       "(0018, 0090) Data Collection Diameter            DS: '500.0'\n",
       "(0018, 1000) Device Serial Number                LO: '50025'\n",
       "(0018, 1020) Software Versions                   LO: 'VB10B'\n",
       "(0018, 1030) Protocol Name                       LO: '01_GATED_THORAX_ABD_AORTA'\n",
       "(0018, 1041) Contrast/Bolus Volume               DS: '0.0'\n",
       "(0018, 1046) Contrast Flow Rate                  DS: '0.0'\n",
       "(0018, 1047) Contrast Flow Duration              DS: '0.0'\n",
       "(0018, 1049) Contrast/Bolus Ingredient Concentra DS: '0.0'\n",
       "(0018, 1100) Reconstruction Diameter             DS: '260.0'\n",
       "(0018, 1110) Distance Source to Detector         DS: '1040.0'\n",
       "(0018, 1111) Distance Source to Patient          DS: '570.0'\n",
       "(0018, 1120) Gantry/Detector Tilt                DS: '0.0'\n",
       "(0018, 1130) Table Height                        DS: '179.0'\n",
       "(0018, 1140) Rotation Direction                  CS: 'CW'\n",
       "(0018, 1150) Exposure Time                       IS: '303'\n",
       "(0018, 1151) X-Ray Tube Current                  IS: '269'\n",
       "(0018, 1152) Exposure                            IS: '400'\n",
       "(0018, 1160) Filter Type                         SH: '0'\n",
       "(0018, 1170) Generator Power                     IS: '32'\n",
       "(0018, 1190) Focal Spot(s)                       DS: '1.2'\n",
       "(0018, 1200) Date of Last Calibration            DA: '20050608'\n",
       "(0018, 1201) Time of Last Calibration            TM: '070006.000000'\n",
       "(0018, 1210) Convolution Kernel                  SH: 'B30f'\n",
       "(0018, 5100) Patient Position                    CS: 'HFS'\n",
       "(0020, 000d) Study Instance UID                  UI: 1.2.124.113932.1.170.223.162.178.20050502.160340.12640015\n",
       "(0020, 000e) Series Instance UID                 UI: 1.3.12.2.1107.5.1.4.50025.30000005060811542834300000776\n",
       "(0020, 0010) Study ID                            SH: '6936864'\n",
       "(0020, 0011) Series Number                       IS: '6'\n",
       "(0020, 0012) Acquisition Number                  IS: '14'\n",
       "(0020, 0013) Instance Number                     IS: '288'\n",
       "(0020, 0032) Image Position (Patient)            DS: [-136.74609375, -298.74609375, -472.5]\n",
       "(0020, 0037) Image Orientation (Patient)         DS: [1, 0, 0, 0, 1, 0]\n",
       "(0020, 0052) Frame of Reference UID              UI: 1.3.12.2.1107.5.1.4.50025.30000005060808034637500001204\n",
       "(0020, 1041) Slice Location                      DS: '-472.5'\n",
       "(0020, 4000) Image Comments                      LT: Array of 43 elements\n",
       "(0028, 0002) Samples per Pixel                   US: 1\n",
       "(0028, 0004) Photometric Interpretation          CS: 'MONOCHROME2'\n",
       "(0028, 0010) Rows                                US: 512\n",
       "(0028, 0011) Columns                             US: 512\n",
       "(0028, 0030) Pixel Spacing                       DS: [0.5078125, 0.5078125]\n",
       "(0028, 0100) Bits Allocated                      US: 16\n",
       "(0028, 0101) Bits Stored                         US: 12\n",
       "(0028, 0102) High Bit                            US: 11\n",
       "(0028, 0103) Pixel Representation                US: 0\n",
       "(0028, 1050) Window Center                       DS: [30, -600]\n",
       "(0028, 1051) Window Width                        DS: [400, 2000]\n",
       "(0028, 1052) Rescale Intercept                   DS: '-1024.0'\n",
       "(0028, 1053) Rescale Slope                       DS: '1.0'\n",
       "(0028, 1055) Window Center & Width Explanation   LO: ['WINDOW1', 'WINDOW2']\n",
       "(0032, 000a) Study Status ID                     CS: 'READ'\n",
       "(0032, 000c) Study Priority ID                   CS: 'LOW'\n",
       "(0032, 1030) Reason for Study                    LO: ''\n",
       "(0032, 1032) Requesting Physician                PN: ''\n",
       "(0032, 1033) Requesting Service                  LO: 'RadVise'\n",
       "(0032, 1060) Requested Procedure Description     LO: 'CTCH/CT3   CT CHEST (SCH)'\n",
       "(0032, 4000) Study Comments                      LT: 'S'\n",
       "(0038, 0300) Current Patient Location            LO: 'ARTHRIT'\n",
       "(0040, 0275)  Request Attributes Sequence  1 item(s) ---- \n",
       "   (0040, 0007) Scheduled Procedure Step Descriptio LO: 'CTCH/CT3   CT CHEST (SCH)'\n",
       "   (0040, 0009) Scheduled Procedure Step ID         SH: '6936864'\n",
       "   (0040, 1001) Requested Procedure ID              SH: '6936864'\n",
       "   ---------\n",
       "(0040, 1001) Requested Procedure ID              SH: '6936864'\n",
       "(7fe0, 0010) Pixel Data                          OW: Array of 524288 elements"
      ]
     },
     "execution_count": 4,
     "metadata": {},
     "output_type": "execute_result"
    }
   ],
   "source": [
    "dicom_file"
   ]
  },
  {
   "cell_type": "code",
   "execution_count": 5,
   "metadata": {},
   "outputs": [],
   "source": [
    "dicom_array = dicom_file.pixel_array"
   ]
  },
  {
   "cell_type": "code",
   "execution_count": 6,
   "metadata": {},
   "outputs": [
    {
     "data": {
      "text/plain": [
       "(512, 512)"
      ]
     },
     "execution_count": 6,
     "metadata": {},
     "output_type": "execute_result"
    }
   ],
   "source": [
    "dicom_array.shape"
   ]
  },
  {
   "attachments": {},
   "cell_type": "markdown",
   "metadata": {},
   "source": [
    "## Show Image 1"
   ]
  },
  {
   "cell_type": "code",
   "execution_count": 7,
   "metadata": {},
   "outputs": [],
   "source": [
    "def normalize_visualize_dicom_1(dcm_file, show=False):\n",
    "    dicom_file = pydicom.dcmread(dcm_file)\n",
    "    dicom_array = dicom_file.pixel_array.astype(float)\n",
    "    normalized_dicom_array = ((np.maximum(dicom_array, 0))/dicom_array.max()) * 255.0\n",
    "    uint8_image = np.uint8(normalized_dicom_array)\n",
    "\n",
    "    if show: # if show == True\n",
    "        pillow_image = Image.fromarray(uint8_image)\n",
    "        pillow_image.show()\n",
    "\n",
    "    return uint8_image"
   ]
  },
  {
   "cell_type": "code",
   "execution_count": 8,
   "metadata": {},
   "outputs": [],
   "source": [
    "image_1 = normalize_visualize_dicom_1('data/slice.dcm', show=True)"
   ]
  },
  {
   "attachments": {},
   "cell_type": "markdown",
   "metadata": {},
   "source": [
    "## Show Image 2"
   ]
  },
  {
   "cell_type": "code",
   "execution_count": 9,
   "metadata": {},
   "outputs": [],
   "source": [
    "hounsfield_min = -200 # np.min(dicom_array)\n",
    "hounsfield_max = 200 # np.max(dicom_array)\n",
    "hounsfield_range = hounsfield_max - hounsfield_min"
   ]
  },
  {
   "cell_type": "code",
   "execution_count": 10,
   "metadata": {},
   "outputs": [
    {
     "name": "stderr",
     "output_type": "stream",
     "text": [
      "C:\\Users\\carlo\\AppData\\Local\\Temp\\ipykernel_12312\\3287521783.py:1: DeprecationWarning: NumPy will stop allowing conversion of out-of-bound Python integers to integer arrays.  The conversion of -200 to uint16 will fail in the future.\n",
      "For the old behavior, usually:\n",
      "    np.array(value).astype(dtype)`\n",
      "will give the desired result (the cast overflows).\n",
      "  dicom_array[dicom_array < hounsfield_min] = hounsfield_min\n"
     ]
    }
   ],
   "source": [
    "dicom_array[dicom_array < hounsfield_min] = hounsfield_min\n",
    "dicom_array[dicom_array > hounsfield_max] = hounsfield_max\n",
    "normalized_array_2 = (dicom_array - hounsfield_min) / hounsfield_range\n",
    "normalized_array_2 *= 255\n",
    "uint8_image_2 = np.uint8(normalized_array_2)"
   ]
  },
  {
   "cell_type": "code",
   "execution_count": 11,
   "metadata": {},
   "outputs": [],
   "source": [
    "pillow_image = Image.fromarray(uint8_image_2)\n",
    "pillow_image.show()"
   ]
  },
  {
   "cell_type": "code",
   "execution_count": 12,
   "metadata": {},
   "outputs": [],
   "source": [
    "def normalize_visualize_dicom_2(dcm_file, max_v=None, min_v=None, show=True):\n",
    "    dicom_file = pydicom.dcmread(dcm_file)\n",
    "    dicom_array = dicom_file.pixel_array\n",
    "\n",
    "    if max_v: hounsfield_max = max_v\n",
    "    else: hounsfield_max = np.max(dicom_array)\n",
    "\n",
    "    if min_v: hounsfield_min = min_v\n",
    "    else: hounsfield_min = np.min(dicom_array)\n",
    "\n",
    "    hounsfield_range = hounsfield_max - hounsfield_min\n",
    "\n",
    "    dicom_array[dicom_array < hounsfield_min] = hounsfield_min\n",
    "    dicom_array[dicom_array > hounsfield_max] = hounsfield_max\n",
    "    normalized_array = ((dicom_array - hounsfield_min) / hounsfield_range) * 255\n",
    "    uint8_image = np.uint8(normalized_array)\n",
    "\n",
    "    if show:\n",
    "        pillow_image = Image.fromarray(uint8_image)\n",
    "        pillow_image.show()\n",
    "    \n",
    "    return uint8_image\n"
   ]
  },
  {
   "cell_type": "code",
   "execution_count": 13,
   "metadata": {},
   "outputs": [
    {
     "name": "stderr",
     "output_type": "stream",
     "text": [
      "C:\\Users\\carlo\\AppData\\Local\\Temp\\ipykernel_12312\\496836777.py:13: DeprecationWarning: NumPy will stop allowing conversion of out-of-bound Python integers to integer arrays.  The conversion of -200 to uint16 will fail in the future.\n",
      "For the old behavior, usually:\n",
      "    np.array(value).astype(dtype)`\n",
      "will give the desired result (the cast overflows).\n",
      "  dicom_array[dicom_array < hounsfield_min] = hounsfield_min\n"
     ]
    }
   ],
   "source": [
    "image_2 = normalize_visualize_dicom_2('data/slice.dcm', show=True, max_v=200, min_v=-200)"
   ]
  },
  {
   "cell_type": "code",
   "execution_count": 14,
   "metadata": {},
   "outputs": [
    {
     "data": {
      "text/plain": [
       "Dataset.file_meta -------------------------------\n",
       "(0002, 0000) File Meta Information Group Length  UL: 204\n",
       "(0002, 0001) File Meta Information Version       OB: b'\\x00\\x01'\n",
       "(0002, 0002) Media Storage SOP Class UID         UI: CT Image Storage\n",
       "(0002, 0003) Media Storage SOP Instance UID      UI: 1.3.12.2.1107.5.1.4.50025.30000005060811542834300001064\n",
       "(0002, 0010) Transfer Syntax UID                 UI: Explicit VR Little Endian\n",
       "(0002, 0012) Implementation Class UID            UI: 1.2.276.0.7238010.5.0.3.5.4\n",
       "(0002, 0013) Implementation Version Name         SH: 'OSIRIX'\n",
       "(0002, 0016) Source Application Entity Title     AE: 'OSIRIX'\n",
       "-------------------------------------------------\n",
       "(0008, 0005) Specific Character Set              CS: 'ISO_IR 100'\n",
       "(0008, 0008) Image Type                          CS: ['ORIGINAL', 'PRIMARY', 'AXIAL', 'CT_SOM5 SPI']\n",
       "(0008, 0016) SOP Class UID                       UI: CT Image Storage\n",
       "(0008, 0018) SOP Instance UID                    UI: 1.3.12.2.1107.5.1.4.50025.30000005060811542834300001064\n",
       "(0008, 0020) Study Date                          DA: '20050601'\n",
       "(0008, 0021) Series Date                         DA: '20050601'\n",
       "(0008, 0022) Acquisition Date                    DA: '20050608'\n",
       "(0008, 0023) Content Date                        DA: '20050608'\n",
       "(0008, 0030) Study Time                          TM: '120000.000000'\n",
       "(0008, 0031) Series Time                         TM: '120000.000000'\n",
       "(0008, 0032) Acquisition Time                    TM: '103509.715359'\n",
       "(0008, 0033) Content Time                        TM: '103509.715359'\n",
       "(0008, 0050) Accession Number                    SH: '6936864'\n",
       "(0008, 0060) Modality                            CS: 'CT'\n",
       "(0008, 0070) Manufacturer                        LO: 'SIEMENS'\n",
       "(0008, 0080) Institution Name                    LO: 'oEfZQhRfYJqw.2f0J^zIa1dx'\n",
       "(0008, 0081) Institution Address                 ST: ''\n",
       "(0008, 0090) Referring Physician's Name          PN: ''\n",
       "(0008, 1010) Station Name                        SH: ''\n",
       "(0008, 1030) Study Description                   LO: 'CT Thorax Abdomen'\n",
       "(0008, 103e) Series Description                  LO: 'CT_Thorax_Abdomen'\n",
       "(0008, 1040) Institutional Department Name       LO: 'Rad 1'\n",
       "(0008, 1048) Physician(s) of Record              PN: ''\n",
       "(0008, 1050) Performing Physician's Name         PN: ''\n",
       "(0008, 1060) Name of Physician(s) Reading Study  PN: [SAG-OBL, COR-OBL]\n",
       "(0008, 1070) Operators' Name                     PN: ''\n",
       "(0008, 1090) Manufacturer's Model Name           LO: 'Sensation 16'\n",
       "(0008, 1110)  Referenced Study Sequence  3 item(s) ---- \n",
       "   (0008, 1150) Referenced SOP Class UID            UI: Detached Study Management SOP Class\n",
       "   (0008, 1155) Referenced SOP Instance UID         UI: 1.2.124.113932.1.170.223.162.178.20050502.160340.12640015\n",
       "   ---------\n",
       "   (0008, 1150) Referenced SOP Class UID            UI: Detached Study Management SOP Class\n",
       "   (0008, 1155) Referenced SOP Instance UID         UI: 1.2.124.113932.1.170.223.162.178.20050608.102742.12860516\n",
       "   ---------\n",
       "   (0008, 1150) Referenced SOP Class UID            UI: Detached Study Management SOP Class\n",
       "   (0008, 1155) Referenced SOP Instance UID         UI: 1.2.124.113932.1.170.223.162.178.20050608.102825.12860521\n",
       "   ---------\n",
       "(0008, 1120)  Referenced Patient Sequence  1 item(s) ---- \n",
       "   (0008, 1150) Referenced SOP Class UID            UI: Detached Patient Management SOP Class\n",
       "   (0008, 1155) Referenced SOP Instance UID         UI: 1.2.124.113932.1.170.223.162.178.20040817.165855.11101154\n",
       "   ---------\n",
       "(0008, 1140)  Referenced Image Sequence  1 item(s) ---- \n",
       "   (0008, 1150) Referenced SOP Class UID            UI: CT Image Storage\n",
       "   (0008, 1155) Referenced SOP Instance UID         UI: 1.3.12.2.1107.5.1.4.50025.30000005060808034637500001206\n",
       "   ---------\n",
       "(0008, 2112)  Source Image Sequence  1 item(s) ---- \n",
       "   (0008, 1150) Referenced SOP Class UID            UI: CT Image Storage\n",
       "   (0008, 1155) Referenced SOP Instance UID         UI: 1.3.12.2.1107.5.1.4.50025.30000005060808034637500001366\n",
       "   ---------\n",
       "(0010, 0010) Patient's Name                      PN: 'patient1'\n",
       "(0010, 0020) Patient ID                          LO: 'patient1_ID'\n",
       "(0010, 0030) Patient's Birth Date                DA: ''\n",
       "(0010, 0040) Patient's Sex                       CS: ''\n",
       "(0010, 1010) Patient's Age                       AS: '000Y'\n",
       "(0010, 1040) Patient's Address                   LO: ''\n",
       "(0010, 21b0) Additional Patient History          LT: ''\n",
       "(0010, 21c0) Pregnancy Status                    US: 4\n",
       "(0018, 0010) Contrast/Bolus Agent                LO: 'APPLIED'\n",
       "(0018, 0015) Body Part Examined                  CS: 'HEART'\n",
       "(0018, 0022) Scan Options                        CS: 'TM400MS1271'\n",
       "(0018, 0050) Slice Thickness                     DS: '3.0'\n",
       "(0018, 0060) KVP                                 DS: '120.0'\n",
       "(0018, 0090) Data Collection Diameter            DS: '500.0'\n",
       "(0018, 1000) Device Serial Number                LO: '50025'\n",
       "(0018, 1020) Software Versions                   LO: 'VB10B'\n",
       "(0018, 1030) Protocol Name                       LO: '01_GATED_THORAX_ABD_AORTA'\n",
       "(0018, 1041) Contrast/Bolus Volume               DS: '0.0'\n",
       "(0018, 1046) Contrast Flow Rate                  DS: '0.0'\n",
       "(0018, 1047) Contrast Flow Duration              DS: '0.0'\n",
       "(0018, 1049) Contrast/Bolus Ingredient Concentra DS: '0.0'\n",
       "(0018, 1100) Reconstruction Diameter             DS: '260.0'\n",
       "(0018, 1110) Distance Source to Detector         DS: '1040.0'\n",
       "(0018, 1111) Distance Source to Patient          DS: '570.0'\n",
       "(0018, 1120) Gantry/Detector Tilt                DS: '0.0'\n",
       "(0018, 1130) Table Height                        DS: '179.0'\n",
       "(0018, 1140) Rotation Direction                  CS: 'CW'\n",
       "(0018, 1150) Exposure Time                       IS: '303'\n",
       "(0018, 1151) X-Ray Tube Current                  IS: '269'\n",
       "(0018, 1152) Exposure                            IS: '400'\n",
       "(0018, 1160) Filter Type                         SH: '0'\n",
       "(0018, 1170) Generator Power                     IS: '32'\n",
       "(0018, 1190) Focal Spot(s)                       DS: '1.2'\n",
       "(0018, 1200) Date of Last Calibration            DA: '20050608'\n",
       "(0018, 1201) Time of Last Calibration            TM: '070006.000000'\n",
       "(0018, 1210) Convolution Kernel                  SH: 'B30f'\n",
       "(0018, 5100) Patient Position                    CS: 'HFS'\n",
       "(0020, 000d) Study Instance UID                  UI: 1.2.124.113932.1.170.223.162.178.20050502.160340.12640015\n",
       "(0020, 000e) Series Instance UID                 UI: 1.3.12.2.1107.5.1.4.50025.30000005060811542834300000776\n",
       "(0020, 0010) Study ID                            SH: '6936864'\n",
       "(0020, 0011) Series Number                       IS: '6'\n",
       "(0020, 0012) Acquisition Number                  IS: '14'\n",
       "(0020, 0013) Instance Number                     IS: '288'\n",
       "(0020, 0032) Image Position (Patient)            DS: [-136.74609375, -298.74609375, -472.5]\n",
       "(0020, 0037) Image Orientation (Patient)         DS: [1, 0, 0, 0, 1, 0]\n",
       "(0020, 0052) Frame of Reference UID              UI: 1.3.12.2.1107.5.1.4.50025.30000005060808034637500001204\n",
       "(0020, 1041) Slice Location                      DS: '-472.5'\n",
       "(0020, 4000) Image Comments                      LT: Array of 43 elements\n",
       "(0028, 0002) Samples per Pixel                   US: 1\n",
       "(0028, 0004) Photometric Interpretation          CS: 'MONOCHROME2'\n",
       "(0028, 0010) Rows                                US: 512\n",
       "(0028, 0011) Columns                             US: 512\n",
       "(0028, 0030) Pixel Spacing                       DS: [0.5078125, 0.5078125]\n",
       "(0028, 0100) Bits Allocated                      US: 16\n",
       "(0028, 0101) Bits Stored                         US: 12\n",
       "(0028, 0102) High Bit                            US: 11\n",
       "(0028, 0103) Pixel Representation                US: 0\n",
       "(0028, 1050) Window Center                       DS: [30, -600]\n",
       "(0028, 1051) Window Width                        DS: [400, 2000]\n",
       "(0028, 1052) Rescale Intercept                   DS: '-1024.0'\n",
       "(0028, 1053) Rescale Slope                       DS: '1.0'\n",
       "(0028, 1055) Window Center & Width Explanation   LO: ['WINDOW1', 'WINDOW2']\n",
       "(0032, 000a) Study Status ID                     CS: 'READ'\n",
       "(0032, 000c) Study Priority ID                   CS: 'LOW'\n",
       "(0032, 1030) Reason for Study                    LO: ''\n",
       "(0032, 1032) Requesting Physician                PN: ''\n",
       "(0032, 1033) Requesting Service                  LO: 'RadVise'\n",
       "(0032, 1060) Requested Procedure Description     LO: 'CTCH/CT3   CT CHEST (SCH)'\n",
       "(0032, 4000) Study Comments                      LT: 'S'\n",
       "(0038, 0300) Current Patient Location            LO: 'ARTHRIT'\n",
       "(0040, 0275)  Request Attributes Sequence  1 item(s) ---- \n",
       "   (0040, 0007) Scheduled Procedure Step Descriptio LO: 'CTCH/CT3   CT CHEST (SCH)'\n",
       "   (0040, 0009) Scheduled Procedure Step ID         SH: '6936864'\n",
       "   (0040, 1001) Requested Procedure ID              SH: '6936864'\n",
       "   ---------\n",
       "(0040, 1001) Requested Procedure ID              SH: '6936864'\n",
       "(7fe0, 0010) Pixel Data                          OW: Array of 524288 elements"
      ]
     },
     "execution_count": 14,
     "metadata": {},
     "output_type": "execute_result"
    }
   ],
   "source": [
    "dicom_file"
   ]
  },
  {
   "attachments": {},
   "cell_type": "markdown",
   "metadata": {},
   "source": [
    "## Anonymize a dicom file"
   ]
  },
  {
   "cell_type": "code",
   "execution_count": 15,
   "metadata": {},
   "outputs": [
    {
     "name": "stderr",
     "output_type": "stream",
     "text": [
      "c:\\Users\\carlo\\anaconda3\\envs\\dicom_env\\lib\\site-packages\\pydicom\\valuerep.py:443: UserWarning: Invalid value for VR DA: '01.01.1999'.\n",
      "  warnings.warn(msg)\n"
     ]
    }
   ],
   "source": [
    "dicom_file.PatientName = 'pycad'\n",
    "dicom_file.PatientBirthDate = '01.01.1999'\n",
    "dicom_file.StudyID = '1234567'\n",
    "dicom_file.PatientSex = ''"
   ]
  },
  {
   "cell_type": "code",
   "execution_count": 16,
   "metadata": {},
   "outputs": [],
   "source": [
    "dicom_file.save_as('data/anonymized_slice.dcm')"
   ]
  },
  {
   "cell_type": "code",
   "execution_count": 17,
   "metadata": {},
   "outputs": [
    {
     "data": {
      "text/plain": [
       "'pycad'"
      ]
     },
     "execution_count": 17,
     "metadata": {},
     "output_type": "execute_result"
    }
   ],
   "source": [
    "new_dicom_file = pydicom.dcmread('data/anonymized_slice.dcm')\n",
    "new_dicom_file.PatientName"
   ]
  },
  {
   "cell_type": "code",
   "execution_count": 18,
   "metadata": {},
   "outputs": [],
   "source": [
    "def anonymize_dicom(dcm_file, pn=None, pb=None, st=None, ps=None, save_path=None):\n",
    "    dicom_file = pydicom(dcm_file)\n",
    "\n",
    "    if pn: dicom_file.PatientName = pn\n",
    "    else: dicom_file.PatientName = ''\n",
    "\n",
    "    if pb: dicom_file.PatientBirthDate = pb\n",
    "    else: dicom_file.PatientBirthDate = ''\n",
    "\n",
    "    if st: dicom_file.StudyID = st\n",
    "    else: dicom_file.StudyID = ''\n",
    "\n",
    "    if ps: dicom_file.PatientSex = ps\n",
    "    else: dicom_file.PatientSex = ''\n",
    "\n",
    "    if save_path:\n",
    "        dicom_file.save_as(save_path)\n",
    "\n",
    "    return dicom_file\n"
   ]
  },
  {
   "attachments": {},
   "cell_type": "markdown",
   "metadata": {},
   "source": [
    "## Changing tags"
   ]
  },
  {
   "cell_type": "code",
   "execution_count": 20,
   "metadata": {},
   "outputs": [],
   "source": [
    "def change_tags(dcm_file, ImageType=None, SOPClassUID=None, SOPInstanceUID=None, StudyDate=None,\n",
    "                SeriesDate=None, ContentDate=None, StudyTime=None, SeriesTime=None,\n",
    "                ContentTime=None, AccessionNumber=None, Modality=None, Manufacturer=None,\n",
    "                ReferringPhysicianName=None, PatientName=None, PatientID=None, PatientBirthDate=None,\n",
    "                PatientSex=None, SliceThickness=None, PatientPosition=None, StudyInstanceUID=None,\n",
    "                SeriesInstanceUID=None, StudyID=None, SeriesNumber=None, InstanceNumber=None,\n",
    "                ImagePositionPatient=None, ImageOrientationPatient=None, FrameOfReferenceUID=None,\n",
    "                PositionReferenceIndicator=None, SamplesPerPixel=None, PhotometricInterpretation=None,\n",
    "                Rows=None, Columns=None, PixelSpacing=None, BitsAllocated=None, BitsStored=None,\n",
    "                HighBit=None, PixelRepresentation=None, WindowCenter=None, WindowWidth=None, \n",
    "                RescaleIntercept=None, RescaleSlope=None, RescaleType=None, PixelData=None):\n",
    "    \n",
    "    \n",
    "    dicom_file_data = pydicom.dcmread(dcm_file)\n",
    "\n",
    "    if ImageType: dicom_file_data.ImageType = ImageType\n",
    "    if SOPClassUID: dicom_file_data.SOPClassUID = SOPClassUID\n",
    "    if SOPInstanceUID: dicom_file_data.SOPInstanceUID = SOPInstanceUID\n",
    "    if StudyDate: dicom_file_data.StudyDate = StudyDate\n",
    "    if SeriesDate: dicom_file_data.SeriesDate = SeriesDate\n",
    "    if ContentDate: dicom_file_data.ContentDate = ContentDate\n",
    "    if AccessionNumber: dicom_file_data.AccessionNumber = AccessionNumber\n",
    "    if Modality: dicom_file_data.Modality = Modality\n",
    "    if Manufacturer: dicom_file_data.Manufacturer = Manufacturer\n",
    "    if ReferringPhysicianName: dicom_file_data.ReferringPhysicianName = ReferringPhysicianName\n",
    "    if PatientName: dicom_file_data.PatientName = PatientName\n",
    "    if PatientID: dicom_file_data.PatientID = PatientID\n",
    "    if PatientBirthDate: dicom_file_data.PatientBirthDate = PatientBirthDate\n",
    "    if PatientSex: dicom_file_data.PatientSex = PatientSex\n",
    "    if SliceThickness: dicom_file_data.SliceThickness = SliceThickness\n",
    "    if PatientPosition: dicom_file_data.PatientPosition = PatientPosition\n",
    "    if StudyInstanceUID: dicom_file_data.StudyInstanceUID = StudyInstanceUID\n",
    "    if SeriesInstanceUID: dicom_file_data.SeriesInstanceUID = SeriesInstanceUID\n",
    "    if StudyID: dicom_file_data.StudyID = StudyID\n",
    "    if SeriesNumber: dicom_file_data.SeriesNumber = SeriesNumber\n",
    "    if InstanceNumber: dicom_file_data.InstanceNumber = InstanceNumber\n",
    "    if ImagePositionPatient: dicom_file_data.ImagePositionPatient = ImagePositionPatient\n",
    "    if ImageOrientationPatient: dicom_file_data.ImageOrientationPatient = ImageOrientationPatient\n",
    "    if FrameOfReferenceUID: dicom_file_data.FrameOfReferenceUID = FrameOfReferenceUID\n",
    "    if PositionReferenceIndicator: dicom_file_data.PositionReferenceIndicator = PositionReferenceIndicator\n",
    "    if SamplesPerPixel: dicom_file_data.SamplesPerPixel = SamplesPerPixel\n",
    "    if PhotometricInterpretation: dicom_file_data.PhotometricInterpretation = PhotometricInterpretation\n",
    "    if Rows: dicom_file_data.Rows = Rows\n",
    "    if Columns: dicom_file_data.Columns = Columns\n",
    "    if PixelSpacing: dicom_file_data.PixelSpacing = PixelSpacing\n",
    "    if BitsAllocated: dicom_file_data.BitsAllocated = BitsAllocated\n",
    "    if BitsStored: dicom_file_data.BitsStored = BitsStored\n",
    "    if HighBit: dicom_file_data.HighBit = HighBit\n",
    "    if PixelRepresentation: dicom_file_data.PixelRepresentation = PixelRepresentation\n",
    "    if WindowCenter: dicom_file_data.WindowCenter = WindowCenter\n",
    "    if WindowWidth: dicom_file_data.WindowWidth = WindowWidth\n",
    "    if WindowWidth: dicom_file_data = WindowWidth\n",
    "    if RescaleIntercept: dicom_file_data.RescaleIntercept = RescaleIntercept\n",
    "    if RescaleType: dicom_file_data.RescaleType = RescaleType\n",
    "    if PixelData: dicom_file_data.PixelData = PixelData\n",
    "\n",
    "    return dicom_file_data\n"
   ]
  },
  {
   "cell_type": "code",
   "execution_count": 21,
   "metadata": {},
   "outputs": [],
   "source": [
    "new_dicom_with_tags = change_tags('data/slice.dcm', ImageType='RGB')\n",
    "new_dicom_with_tags.save_as('data/edited_slice.dcm')"
   ]
  },
  {
   "cell_type": "code",
   "execution_count": 22,
   "metadata": {},
   "outputs": [
    {
     "data": {
      "text/plain": [
       "'RGB'"
      ]
     },
     "execution_count": 22,
     "metadata": {},
     "output_type": "execute_result"
    }
   ],
   "source": [
    "uploaded_dicom = pydicom.dcmread('data/edited_slice.dcm')\n",
    "uploaded_dicom.ImageType"
   ]
  },
  {
   "attachments": {},
   "cell_type": "markdown",
   "metadata": {},
   "source": [
    "## Changing the pixel array values"
   ]
  },
  {
   "cell_type": "code",
   "execution_count": 23,
   "metadata": {},
   "outputs": [
    {
     "data": {
      "text/plain": [
       "array([[ 30,  25,  22, ...,  20,  14,  20],\n",
       "       [ 31,  29,  29, ...,  17,  15,  19],\n",
       "       [ 21,  23,  28, ...,  19,  20,  23],\n",
       "       ...,\n",
       "       [623, 733, 840, ..., 925, 932, 951],\n",
       "       [466, 548, 646, ..., 922, 941, 959],\n",
       "       [377, 417, 482, ..., 932, 960, 982]], dtype=uint16)"
      ]
     },
     "execution_count": 23,
     "metadata": {},
     "output_type": "execute_result"
    }
   ],
   "source": [
    "uploaded_dicom.pixel_array"
   ]
  },
  {
   "cell_type": "code",
   "execution_count": 24,
   "metadata": {},
   "outputs": [
    {
     "data": {
      "text/plain": [
       "bytes"
      ]
     },
     "execution_count": 24,
     "metadata": {},
     "output_type": "execute_result"
    }
   ],
   "source": [
    "type(uploaded_dicom.PixelData)"
   ]
  },
  {
   "cell_type": "code",
   "execution_count": 25,
   "metadata": {},
   "outputs": [],
   "source": [
    "new_array = np.zeros((512,512)).tobytes()"
   ]
  },
  {
   "cell_type": "code",
   "execution_count": 26,
   "metadata": {},
   "outputs": [],
   "source": [
    "new_dicom_pixel_data = change_tags('data/slice.dcm', PixelData=new_array)"
   ]
  },
  {
   "cell_type": "code",
   "execution_count": 27,
   "metadata": {},
   "outputs": [
    {
     "name": "stderr",
     "output_type": "stream",
     "text": [
      "c:\\Users\\carlo\\anaconda3\\envs\\dicom_env\\lib\\site-packages\\pydicom\\pixel_data_handlers\\numpy_handler.py:250: UserWarning: The length of the pixel data in the dataset (2097152 bytes) indicates it contains excess padding. 1572864 bytes will be removed from the end of the data\n",
      "  warnings.warn(msg)\n"
     ]
    },
    {
     "data": {
      "text/plain": [
       "array([[0, 0, 0, ..., 0, 0, 0],\n",
       "       [0, 0, 0, ..., 0, 0, 0],\n",
       "       [0, 0, 0, ..., 0, 0, 0],\n",
       "       ...,\n",
       "       [0, 0, 0, ..., 0, 0, 0],\n",
       "       [0, 0, 0, ..., 0, 0, 0],\n",
       "       [0, 0, 0, ..., 0, 0, 0]], dtype=uint16)"
      ]
     },
     "execution_count": 27,
     "metadata": {},
     "output_type": "execute_result"
    }
   ],
   "source": [
    "new_dicom_pixel_data.pixel_array"
   ]
  },
  {
   "attachments": {},
   "cell_type": "markdown",
   "metadata": {},
   "source": [
    "## Convert dicom into png/jpg"
   ]
  },
  {
   "cell_type": "code",
   "execution_count": 28,
   "metadata": {},
   "outputs": [
    {
     "name": "stderr",
     "output_type": "stream",
     "text": [
      "C:\\Users\\carlo\\AppData\\Local\\Temp\\ipykernel_12312\\496836777.py:13: DeprecationWarning: NumPy will stop allowing conversion of out-of-bound Python integers to integer arrays.  The conversion of -200 to uint16 will fail in the future.\n",
      "For the old behavior, usually:\n",
      "    np.array(value).astype(dtype)`\n",
      "will give the desired result (the cast overflows).\n",
      "  dicom_array[dicom_array < hounsfield_min] = hounsfield_min\n"
     ]
    }
   ],
   "source": [
    "array = normalize_visualize_dicom_2('data/slice.dcm', max_v=200, min_v=-200, show=False)\n",
    "img = Image.fromarray(array)\n",
    "img.save('data/slice.png')"
   ]
  },
  {
   "cell_type": "code",
   "execution_count": 29,
   "metadata": {},
   "outputs": [],
   "source": [
    "def dicom_to_png(dcm_file, png_path, max_v=None, min_v=None): # png/path/something.dcm\n",
    "    slice_name = os.path.basename(dcm_file)[:-4]\n",
    "    array = normalize_visualize_dicom_2(dcm_file, max_v, min_v, show=False)\n",
    "    img = Image.fromarray(array)\n",
    "    img.save(f'{png_path}/{slice_name}.png')"
   ]
  },
  {
   "cell_type": "code",
   "execution_count": 30,
   "metadata": {},
   "outputs": [
    {
     "name": "stderr",
     "output_type": "stream",
     "text": [
      "C:\\Users\\carlo\\AppData\\Local\\Temp\\ipykernel_12312\\496836777.py:13: DeprecationWarning: NumPy will stop allowing conversion of out-of-bound Python integers to integer arrays.  The conversion of -200 to uint16 will fail in the future.\n",
      "For the old behavior, usually:\n",
      "    np.array(value).astype(dtype)`\n",
      "will give the desired result (the cast overflows).\n",
      "  dicom_array[dicom_array < hounsfield_min] = hounsfield_min\n"
     ]
    },
    {
     "ename": "FileNotFoundError",
     "evalue": "[Errno 2] No such file or directory: 'data/test/slice.png'",
     "output_type": "error",
     "traceback": [
      "\u001b[1;31m---------------------------------------------------------------------------\u001b[0m",
      "\u001b[1;31mFileNotFoundError\u001b[0m                         Traceback (most recent call last)",
      "Cell \u001b[1;32mIn[30], line 1\u001b[0m\n\u001b[1;32m----> 1\u001b[0m dicom_to_png(\u001b[39m'\u001b[39;49m\u001b[39mdata/slice.dcm\u001b[39;49m\u001b[39m'\u001b[39;49m, \u001b[39m'\u001b[39;49m\u001b[39mdata/test\u001b[39;49m\u001b[39m'\u001b[39;49m, max_v\u001b[39m=\u001b[39;49m\u001b[39m200\u001b[39;49m, min_v\u001b[39m=\u001b[39;49m\u001b[39m-\u001b[39;49m\u001b[39m200\u001b[39;49m)\n",
      "Cell \u001b[1;32mIn[29], line 5\u001b[0m, in \u001b[0;36mdicom_to_png\u001b[1;34m(dcm_file, png_path, max_v, min_v)\u001b[0m\n\u001b[0;32m      3\u001b[0m array \u001b[39m=\u001b[39m normalize_visualize_dicom_2(dcm_file, max_v, min_v, show\u001b[39m=\u001b[39m\u001b[39mFalse\u001b[39;00m)\n\u001b[0;32m      4\u001b[0m img \u001b[39m=\u001b[39m Image\u001b[39m.\u001b[39mfromarray(array)\n\u001b[1;32m----> 5\u001b[0m img\u001b[39m.\u001b[39;49msave(\u001b[39mf\u001b[39;49m\u001b[39m'\u001b[39;49m\u001b[39m{\u001b[39;49;00mpng_path\u001b[39m}\u001b[39;49;00m\u001b[39m/\u001b[39;49m\u001b[39m{\u001b[39;49;00mslice_name\u001b[39m}\u001b[39;49;00m\u001b[39m.png\u001b[39;49m\u001b[39m'\u001b[39;49m)\n",
      "File \u001b[1;32mc:\\Users\\carlo\\anaconda3\\envs\\dicom_env\\lib\\site-packages\\PIL\\Image.py:2410\u001b[0m, in \u001b[0;36mImage.save\u001b[1;34m(self, fp, format, **params)\u001b[0m\n\u001b[0;32m   2408\u001b[0m         fp \u001b[39m=\u001b[39m builtins\u001b[39m.\u001b[39mopen(filename, \u001b[39m\"\u001b[39m\u001b[39mr+b\u001b[39m\u001b[39m\"\u001b[39m)\n\u001b[0;32m   2409\u001b[0m     \u001b[39melse\u001b[39;00m:\n\u001b[1;32m-> 2410\u001b[0m         fp \u001b[39m=\u001b[39m builtins\u001b[39m.\u001b[39;49mopen(filename, \u001b[39m\"\u001b[39;49m\u001b[39mw+b\u001b[39;49m\u001b[39m\"\u001b[39;49m)\n\u001b[0;32m   2412\u001b[0m \u001b[39mtry\u001b[39;00m:\n\u001b[0;32m   2413\u001b[0m     save_handler(\u001b[39mself\u001b[39m, fp, filename)\n",
      "\u001b[1;31mFileNotFoundError\u001b[0m: [Errno 2] No such file or directory: 'data/test/slice.png'"
     ]
    }
   ],
   "source": [
    "dicom_to_png('data/slice.dcm', 'data/test', max_v=200, min_v=-200)"
   ]
  },
  {
   "attachments": {},
   "cell_type": "markdown",
   "metadata": {},
   "source": [
    "## Convert a group of dicoms into png"
   ]
  },
  {
   "cell_type": "code",
   "execution_count": 3,
   "metadata": {},
   "outputs": [],
   "source": [
    "from glob import glob"
   ]
  },
  {
   "cell_type": "code",
   "execution_count": 11,
   "metadata": {},
   "outputs": [],
   "source": [
    "dicom_files_path = glob('data/case_corona_scan/*.dcm')"
   ]
  },
  {
   "cell_type": "code",
   "execution_count": 13,
   "metadata": {},
   "outputs": [],
   "source": [
    "for dicom_file in dicom_files_path:\n",
    "    dicom_to_png(dicom_file, 'data/png_folder', 200, -200)"
   ]
  },
  {
   "attachments": {},
   "cell_type": "markdown",
   "metadata": {},
   "source": [
    "## Convert a group of dicom files into nifti"
   ]
  },
  {
   "cell_type": "code",
   "execution_count": 14,
   "metadata": {},
   "outputs": [],
   "source": [
    "import dicom2nifti"
   ]
  },
  {
   "cell_type": "code",
   "execution_count": 15,
   "metadata": {},
   "outputs": [
    {
     "data": {
      "text/plain": [
       "{'NII_FILE': 'data/case_corona_scan.nii.gz',\n",
       " 'NII': <nibabel.nifti1.Nifti1Image at 0x16dff2aa2b0>,\n",
       " 'MAX_SLICE_INCREMENT': 0.9999990000000001}"
      ]
     },
     "execution_count": 15,
     "metadata": {},
     "output_type": "execute_result"
    }
   ],
   "source": [
    "path_dicom_folder = 'data/case_corona_scan'\n",
    "dicom2nifti.dicom_series_to_nifti(path_dicom_folder, 'data/case_corona_scan.nii.gz')"
   ]
  },
  {
   "attachments": {},
   "cell_type": "markdown",
   "metadata": {},
   "source": [
    "## Convert dicom to mp4"
   ]
  },
  {
   "cell_type": "code",
   "execution_count": 31,
   "metadata": {},
   "outputs": [],
   "source": [
    "import cv2"
   ]
  },
  {
   "cell_type": "code",
   "execution_count": 32,
   "metadata": {},
   "outputs": [
    {
     "ename": "NameError",
     "evalue": "name 'glob' is not defined",
     "output_type": "error",
     "traceback": [
      "\u001b[1;31m---------------------------------------------------------------------------\u001b[0m",
      "\u001b[1;31mNameError\u001b[0m                                 Traceback (most recent call last)",
      "Cell \u001b[1;32mIn[32], line 1\u001b[0m\n\u001b[1;32m----> 1\u001b[0m dicom_files_path \u001b[39m=\u001b[39m \u001b[39msorted\u001b[39m(glob(\u001b[39m'\u001b[39m\u001b[39mdata/case_corona_scan/*.dcm\u001b[39m\u001b[39m'\u001b[39m))\n\u001b[0;32m      2\u001b[0m frame_per_second \u001b[39m=\u001b[39m \u001b[39m15\u001b[39m\n\u001b[0;32m      3\u001b[0m frame_size \u001b[39m=\u001b[39m pydicom\u001b[39m.\u001b[39mdcmread(dicom_files_path[\u001b[39m0\u001b[39m])\u001b[39m.\u001b[39mpixel_array\u001b[39m.\u001b[39mshape\n",
      "\u001b[1;31mNameError\u001b[0m: name 'glob' is not defined"
     ]
    }
   ],
   "source": [
    "dicom_files_path = sorted(glob('data/case_corona_scan/*.dcm'))\n",
    "frame_per_second = 15\n",
    "frame_size = pydicom.dcmread(dicom_files_path[0]).pixel_array.shape"
   ]
  },
  {
   "cell_type": "code",
   "execution_count": 6,
   "metadata": {},
   "outputs": [],
   "source": [
    "out = cv2.VideoWriter('data/case_corona_scan.mp4', cv2.VideoWriter_fourcc(*'DIVX'), frame_per_second, frame_size)"
   ]
  },
  {
   "cell_type": "code",
   "execution_count": 7,
   "metadata": {},
   "outputs": [],
   "source": [
    "for filename in dicom_files_path:\n",
    "    img = normalize_visualize_dicom_2(filename, max_v=200, min_v=-200, show=False)\n",
    "    cv2_img = cv2.cvtColor(img, cv2.COLOR_RGB2BGR)\n",
    "    out.write(cv2_img)\n",
    "\n",
    "out.release()"
   ]
  },
  {
   "cell_type": "code",
   "execution_count": null,
   "metadata": {},
   "outputs": [],
   "source": []
  }
 ],
 "metadata": {
  "kernelspec": {
   "display_name": "Python 3",
   "language": "python",
   "name": "python3"
  },
  "language_info": {
   "codemirror_mode": {
    "name": "ipython",
    "version": 3
   },
   "file_extension": ".py",
   "mimetype": "text/x-python",
   "name": "python",
   "nbconvert_exporter": "python",
   "pygments_lexer": "ipython3",
   "version": "3.8.17"
  },
  "orig_nbformat": 4,
  "vscode": {
   "interpreter": {
    "hash": "73f9d66850c3ff01350b2ea2cde4cee0b0aa4cebe13bf59e228cca7587d73aeb"
   }
  }
 },
 "nbformat": 4,
 "nbformat_minor": 2
}
